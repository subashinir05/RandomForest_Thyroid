{
  "cells": [
    {
      "cell_type": "code",
      "execution_count": null,
      "metadata": {
        "id": "TmvCi0CCoPQx"
      },
      "outputs": [],
      "source": [
        "import pandas as ps\n",
        "import numpy as np\n",
        "import seaborn as sns\n",
        "import matplotlib.pyplot as plt\n",
        "import math\n"
      ]
    },
    {
      "cell_type": "code",
      "execution_count": null,
      "metadata": {
        "id": "Kz0CYj4NpiOa"
      },
      "outputs": [],
      "source": [
        "data=ps.read_csv(\"/content/drive/MyDrive/project/thyroid.csv\")"
      ]
    },
    {
      "cell_type": "code",
      "execution_count": null,
      "metadata": {
        "colab": {
          "base_uri": "https://localhost:8080/",
          "height": 334
        },
        "id": "blc0HjrAp0Ww",
        "outputId": "cbba8d42-2eb7-4b07-c8f7-7c985ba6918d"
      },
      "outputs": [
        {
          "output_type": "execute_result",
          "data": {
            "text/plain": [
              "   age sex on thyroxine query on thyroxine on antithyroid medication sick  \\\n",
              "0   65   F            f                  f                         f    f   \n",
              "1   44   M            f                  f                         f    f   \n",
              "2   65   M            f                  f                         f    f   \n",
              "3   27   F            f                  f                         f    f   \n",
              "4   54   F            f                  f                         f    f   \n",
              "\n",
              "  pregnant thyroid surgery I131 treatment query hypothyroid  ...   TSH  \\\n",
              "0        f               f              f                 t  ...    12   \n",
              "1        f               f              f                 f  ...    45   \n",
              "2        f               f              f                 f  ...  14.8   \n",
              "3        f               f              f                 f  ...    15   \n",
              "4        f               f              f                 f  ...    19   \n",
              "\n",
              "  T3 measured   T3 TT4 measured TT4 T4U measured   T4U FTI measured  FTI  \\\n",
              "0           f    ?            t  99            t  1.14            t   87   \n",
              "1           t  1.4            t  39            t  1.16            t   33   \n",
              "2           t  1.5            t  61            t  0.85            t   72   \n",
              "3           t  1.6            t  82            t  0.82            t  100   \n",
              "4           t  2.2            t  83            t  1.03            t   81   \n",
              "\n",
              "  binaryClass  \n",
              "0           N  \n",
              "1           N  \n",
              "2           N  \n",
              "3           N  \n",
              "4           N  \n",
              "\n",
              "[5 rows x 27 columns]"
            ],
            "text/html": [
              "\n",
              "  <div id=\"df-c6955162-f1ba-48fd-84ea-512985d3f646\">\n",
              "    <div class=\"colab-df-container\">\n",
              "      <div>\n",
              "<style scoped>\n",
              "    .dataframe tbody tr th:only-of-type {\n",
              "        vertical-align: middle;\n",
              "    }\n",
              "\n",
              "    .dataframe tbody tr th {\n",
              "        vertical-align: top;\n",
              "    }\n",
              "\n",
              "    .dataframe thead th {\n",
              "        text-align: right;\n",
              "    }\n",
              "</style>\n",
              "<table border=\"1\" class=\"dataframe\">\n",
              "  <thead>\n",
              "    <tr style=\"text-align: right;\">\n",
              "      <th></th>\n",
              "      <th>age</th>\n",
              "      <th>sex</th>\n",
              "      <th>on thyroxine</th>\n",
              "      <th>query on thyroxine</th>\n",
              "      <th>on antithyroid medication</th>\n",
              "      <th>sick</th>\n",
              "      <th>pregnant</th>\n",
              "      <th>thyroid surgery</th>\n",
              "      <th>I131 treatment</th>\n",
              "      <th>query hypothyroid</th>\n",
              "      <th>...</th>\n",
              "      <th>TSH</th>\n",
              "      <th>T3 measured</th>\n",
              "      <th>T3</th>\n",
              "      <th>TT4 measured</th>\n",
              "      <th>TT4</th>\n",
              "      <th>T4U measured</th>\n",
              "      <th>T4U</th>\n",
              "      <th>FTI measured</th>\n",
              "      <th>FTI</th>\n",
              "      <th>binaryClass</th>\n",
              "    </tr>\n",
              "  </thead>\n",
              "  <tbody>\n",
              "    <tr>\n",
              "      <th>0</th>\n",
              "      <td>65</td>\n",
              "      <td>F</td>\n",
              "      <td>f</td>\n",
              "      <td>f</td>\n",
              "      <td>f</td>\n",
              "      <td>f</td>\n",
              "      <td>f</td>\n",
              "      <td>f</td>\n",
              "      <td>f</td>\n",
              "      <td>t</td>\n",
              "      <td>...</td>\n",
              "      <td>12</td>\n",
              "      <td>f</td>\n",
              "      <td>?</td>\n",
              "      <td>t</td>\n",
              "      <td>99</td>\n",
              "      <td>t</td>\n",
              "      <td>1.14</td>\n",
              "      <td>t</td>\n",
              "      <td>87</td>\n",
              "      <td>N</td>\n",
              "    </tr>\n",
              "    <tr>\n",
              "      <th>1</th>\n",
              "      <td>44</td>\n",
              "      <td>M</td>\n",
              "      <td>f</td>\n",
              "      <td>f</td>\n",
              "      <td>f</td>\n",
              "      <td>f</td>\n",
              "      <td>f</td>\n",
              "      <td>f</td>\n",
              "      <td>f</td>\n",
              "      <td>f</td>\n",
              "      <td>...</td>\n",
              "      <td>45</td>\n",
              "      <td>t</td>\n",
              "      <td>1.4</td>\n",
              "      <td>t</td>\n",
              "      <td>39</td>\n",
              "      <td>t</td>\n",
              "      <td>1.16</td>\n",
              "      <td>t</td>\n",
              "      <td>33</td>\n",
              "      <td>N</td>\n",
              "    </tr>\n",
              "    <tr>\n",
              "      <th>2</th>\n",
              "      <td>65</td>\n",
              "      <td>M</td>\n",
              "      <td>f</td>\n",
              "      <td>f</td>\n",
              "      <td>f</td>\n",
              "      <td>f</td>\n",
              "      <td>f</td>\n",
              "      <td>f</td>\n",
              "      <td>f</td>\n",
              "      <td>f</td>\n",
              "      <td>...</td>\n",
              "      <td>14.8</td>\n",
              "      <td>t</td>\n",
              "      <td>1.5</td>\n",
              "      <td>t</td>\n",
              "      <td>61</td>\n",
              "      <td>t</td>\n",
              "      <td>0.85</td>\n",
              "      <td>t</td>\n",
              "      <td>72</td>\n",
              "      <td>N</td>\n",
              "    </tr>\n",
              "    <tr>\n",
              "      <th>3</th>\n",
              "      <td>27</td>\n",
              "      <td>F</td>\n",
              "      <td>f</td>\n",
              "      <td>f</td>\n",
              "      <td>f</td>\n",
              "      <td>f</td>\n",
              "      <td>f</td>\n",
              "      <td>f</td>\n",
              "      <td>f</td>\n",
              "      <td>f</td>\n",
              "      <td>...</td>\n",
              "      <td>15</td>\n",
              "      <td>t</td>\n",
              "      <td>1.6</td>\n",
              "      <td>t</td>\n",
              "      <td>82</td>\n",
              "      <td>t</td>\n",
              "      <td>0.82</td>\n",
              "      <td>t</td>\n",
              "      <td>100</td>\n",
              "      <td>N</td>\n",
              "    </tr>\n",
              "    <tr>\n",
              "      <th>4</th>\n",
              "      <td>54</td>\n",
              "      <td>F</td>\n",
              "      <td>f</td>\n",
              "      <td>f</td>\n",
              "      <td>f</td>\n",
              "      <td>f</td>\n",
              "      <td>f</td>\n",
              "      <td>f</td>\n",
              "      <td>f</td>\n",
              "      <td>f</td>\n",
              "      <td>...</td>\n",
              "      <td>19</td>\n",
              "      <td>t</td>\n",
              "      <td>2.2</td>\n",
              "      <td>t</td>\n",
              "      <td>83</td>\n",
              "      <td>t</td>\n",
              "      <td>1.03</td>\n",
              "      <td>t</td>\n",
              "      <td>81</td>\n",
              "      <td>N</td>\n",
              "    </tr>\n",
              "  </tbody>\n",
              "</table>\n",
              "<p>5 rows × 27 columns</p>\n",
              "</div>\n",
              "      <button class=\"colab-df-convert\" onclick=\"convertToInteractive('df-c6955162-f1ba-48fd-84ea-512985d3f646')\"\n",
              "              title=\"Convert this dataframe to an interactive table.\"\n",
              "              style=\"display:none;\">\n",
              "        \n",
              "  <svg xmlns=\"http://www.w3.org/2000/svg\" height=\"24px\"viewBox=\"0 0 24 24\"\n",
              "       width=\"24px\">\n",
              "    <path d=\"M0 0h24v24H0V0z\" fill=\"none\"/>\n",
              "    <path d=\"M18.56 5.44l.94 2.06.94-2.06 2.06-.94-2.06-.94-.94-2.06-.94 2.06-2.06.94zm-11 1L8.5 8.5l.94-2.06 2.06-.94-2.06-.94L8.5 2.5l-.94 2.06-2.06.94zm10 10l.94 2.06.94-2.06 2.06-.94-2.06-.94-.94-2.06-.94 2.06-2.06.94z\"/><path d=\"M17.41 7.96l-1.37-1.37c-.4-.4-.92-.59-1.43-.59-.52 0-1.04.2-1.43.59L10.3 9.45l-7.72 7.72c-.78.78-.78 2.05 0 2.83L4 21.41c.39.39.9.59 1.41.59.51 0 1.02-.2 1.41-.59l7.78-7.78 2.81-2.81c.8-.78.8-2.07 0-2.86zM5.41 20L4 18.59l7.72-7.72 1.47 1.35L5.41 20z\"/>\n",
              "  </svg>\n",
              "      </button>\n",
              "      \n",
              "  <style>\n",
              "    .colab-df-container {\n",
              "      display:flex;\n",
              "      flex-wrap:wrap;\n",
              "      gap: 12px;\n",
              "    }\n",
              "\n",
              "    .colab-df-convert {\n",
              "      background-color: #E8F0FE;\n",
              "      border: none;\n",
              "      border-radius: 50%;\n",
              "      cursor: pointer;\n",
              "      display: none;\n",
              "      fill: #1967D2;\n",
              "      height: 32px;\n",
              "      padding: 0 0 0 0;\n",
              "      width: 32px;\n",
              "    }\n",
              "\n",
              "    .colab-df-convert:hover {\n",
              "      background-color: #E2EBFA;\n",
              "      box-shadow: 0px 1px 2px rgba(60, 64, 67, 0.3), 0px 1px 3px 1px rgba(60, 64, 67, 0.15);\n",
              "      fill: #174EA6;\n",
              "    }\n",
              "\n",
              "    [theme=dark] .colab-df-convert {\n",
              "      background-color: #3B4455;\n",
              "      fill: #D2E3FC;\n",
              "    }\n",
              "\n",
              "    [theme=dark] .colab-df-convert:hover {\n",
              "      background-color: #434B5C;\n",
              "      box-shadow: 0px 1px 3px 1px rgba(0, 0, 0, 0.15);\n",
              "      filter: drop-shadow(0px 1px 2px rgba(0, 0, 0, 0.3));\n",
              "      fill: #FFFFFF;\n",
              "    }\n",
              "  </style>\n",
              "\n",
              "      <script>\n",
              "        const buttonEl =\n",
              "          document.querySelector('#df-c6955162-f1ba-48fd-84ea-512985d3f646 button.colab-df-convert');\n",
              "        buttonEl.style.display =\n",
              "          google.colab.kernel.accessAllowed ? 'block' : 'none';\n",
              "\n",
              "        async function convertToInteractive(key) {\n",
              "          const element = document.querySelector('#df-c6955162-f1ba-48fd-84ea-512985d3f646');\n",
              "          const dataTable =\n",
              "            await google.colab.kernel.invokeFunction('convertToInteractive',\n",
              "                                                     [key], {});\n",
              "          if (!dataTable) return;\n",
              "\n",
              "          const docLinkHtml = 'Like what you see? Visit the ' +\n",
              "            '<a target=\"_blank\" href=https://colab.research.google.com/notebooks/data_table.ipynb>data table notebook</a>'\n",
              "            + ' to learn more about interactive tables.';\n",
              "          element.innerHTML = '';\n",
              "          dataTable['output_type'] = 'display_data';\n",
              "          await google.colab.output.renderOutput(dataTable, element);\n",
              "          const docLink = document.createElement('div');\n",
              "          docLink.innerHTML = docLinkHtml;\n",
              "          element.appendChild(docLink);\n",
              "        }\n",
              "      </script>\n",
              "    </div>\n",
              "  </div>\n",
              "  "
            ]
          },
          "metadata": {},
          "execution_count": 3
        }
      ],
      "source": [
        "data.head(5)"
      ]
    },
    {
      "cell_type": "code",
      "execution_count": null,
      "metadata": {
        "colab": {
          "base_uri": "https://localhost:8080/"
        },
        "id": "eu2KPzfYp6lB",
        "outputId": "e03968d6-5472-4abc-9d2e-aae4e02e07f3"
      },
      "outputs": [
        {
          "output_type": "execute_result",
          "data": {
            "text/plain": [
              "(899, 27)"
            ]
          },
          "metadata": {},
          "execution_count": 4
        }
      ],
      "source": [
        "data.shape"
      ]
    },
    {
      "cell_type": "code",
      "execution_count": null,
      "metadata": {
        "colab": {
          "base_uri": "https://localhost:8080/",
          "height": 300
        },
        "id": "XGNqMDJe8Ukw",
        "outputId": "3c5c715b-2345-4fe8-a547-8d2e5b10da82"
      },
      "outputs": [
        {
          "output_type": "execute_result",
          "data": {
            "text/plain": [
              "              age\n",
              "count  899.000000\n",
              "mean    51.993326\n",
              "std     19.278291\n",
              "min      1.000000\n",
              "25%     37.000000\n",
              "50%     54.000000\n",
              "75%     68.000000\n",
              "max     90.000000"
            ],
            "text/html": [
              "\n",
              "  <div id=\"df-554b1b61-c64f-46db-b2e1-955ebec692ee\">\n",
              "    <div class=\"colab-df-container\">\n",
              "      <div>\n",
              "<style scoped>\n",
              "    .dataframe tbody tr th:only-of-type {\n",
              "        vertical-align: middle;\n",
              "    }\n",
              "\n",
              "    .dataframe tbody tr th {\n",
              "        vertical-align: top;\n",
              "    }\n",
              "\n",
              "    .dataframe thead th {\n",
              "        text-align: right;\n",
              "    }\n",
              "</style>\n",
              "<table border=\"1\" class=\"dataframe\">\n",
              "  <thead>\n",
              "    <tr style=\"text-align: right;\">\n",
              "      <th></th>\n",
              "      <th>age</th>\n",
              "    </tr>\n",
              "  </thead>\n",
              "  <tbody>\n",
              "    <tr>\n",
              "      <th>count</th>\n",
              "      <td>899.000000</td>\n",
              "    </tr>\n",
              "    <tr>\n",
              "      <th>mean</th>\n",
              "      <td>51.993326</td>\n",
              "    </tr>\n",
              "    <tr>\n",
              "      <th>std</th>\n",
              "      <td>19.278291</td>\n",
              "    </tr>\n",
              "    <tr>\n",
              "      <th>min</th>\n",
              "      <td>1.000000</td>\n",
              "    </tr>\n",
              "    <tr>\n",
              "      <th>25%</th>\n",
              "      <td>37.000000</td>\n",
              "    </tr>\n",
              "    <tr>\n",
              "      <th>50%</th>\n",
              "      <td>54.000000</td>\n",
              "    </tr>\n",
              "    <tr>\n",
              "      <th>75%</th>\n",
              "      <td>68.000000</td>\n",
              "    </tr>\n",
              "    <tr>\n",
              "      <th>max</th>\n",
              "      <td>90.000000</td>\n",
              "    </tr>\n",
              "  </tbody>\n",
              "</table>\n",
              "</div>\n",
              "      <button class=\"colab-df-convert\" onclick=\"convertToInteractive('df-554b1b61-c64f-46db-b2e1-955ebec692ee')\"\n",
              "              title=\"Convert this dataframe to an interactive table.\"\n",
              "              style=\"display:none;\">\n",
              "        \n",
              "  <svg xmlns=\"http://www.w3.org/2000/svg\" height=\"24px\"viewBox=\"0 0 24 24\"\n",
              "       width=\"24px\">\n",
              "    <path d=\"M0 0h24v24H0V0z\" fill=\"none\"/>\n",
              "    <path d=\"M18.56 5.44l.94 2.06.94-2.06 2.06-.94-2.06-.94-.94-2.06-.94 2.06-2.06.94zm-11 1L8.5 8.5l.94-2.06 2.06-.94-2.06-.94L8.5 2.5l-.94 2.06-2.06.94zm10 10l.94 2.06.94-2.06 2.06-.94-2.06-.94-.94-2.06-.94 2.06-2.06.94z\"/><path d=\"M17.41 7.96l-1.37-1.37c-.4-.4-.92-.59-1.43-.59-.52 0-1.04.2-1.43.59L10.3 9.45l-7.72 7.72c-.78.78-.78 2.05 0 2.83L4 21.41c.39.39.9.59 1.41.59.51 0 1.02-.2 1.41-.59l7.78-7.78 2.81-2.81c.8-.78.8-2.07 0-2.86zM5.41 20L4 18.59l7.72-7.72 1.47 1.35L5.41 20z\"/>\n",
              "  </svg>\n",
              "      </button>\n",
              "      \n",
              "  <style>\n",
              "    .colab-df-container {\n",
              "      display:flex;\n",
              "      flex-wrap:wrap;\n",
              "      gap: 12px;\n",
              "    }\n",
              "\n",
              "    .colab-df-convert {\n",
              "      background-color: #E8F0FE;\n",
              "      border: none;\n",
              "      border-radius: 50%;\n",
              "      cursor: pointer;\n",
              "      display: none;\n",
              "      fill: #1967D2;\n",
              "      height: 32px;\n",
              "      padding: 0 0 0 0;\n",
              "      width: 32px;\n",
              "    }\n",
              "\n",
              "    .colab-df-convert:hover {\n",
              "      background-color: #E2EBFA;\n",
              "      box-shadow: 0px 1px 2px rgba(60, 64, 67, 0.3), 0px 1px 3px 1px rgba(60, 64, 67, 0.15);\n",
              "      fill: #174EA6;\n",
              "    }\n",
              "\n",
              "    [theme=dark] .colab-df-convert {\n",
              "      background-color: #3B4455;\n",
              "      fill: #D2E3FC;\n",
              "    }\n",
              "\n",
              "    [theme=dark] .colab-df-convert:hover {\n",
              "      background-color: #434B5C;\n",
              "      box-shadow: 0px 1px 3px 1px rgba(0, 0, 0, 0.15);\n",
              "      filter: drop-shadow(0px 1px 2px rgba(0, 0, 0, 0.3));\n",
              "      fill: #FFFFFF;\n",
              "    }\n",
              "  </style>\n",
              "\n",
              "      <script>\n",
              "        const buttonEl =\n",
              "          document.querySelector('#df-554b1b61-c64f-46db-b2e1-955ebec692ee button.colab-df-convert');\n",
              "        buttonEl.style.display =\n",
              "          google.colab.kernel.accessAllowed ? 'block' : 'none';\n",
              "\n",
              "        async function convertToInteractive(key) {\n",
              "          const element = document.querySelector('#df-554b1b61-c64f-46db-b2e1-955ebec692ee');\n",
              "          const dataTable =\n",
              "            await google.colab.kernel.invokeFunction('convertToInteractive',\n",
              "                                                     [key], {});\n",
              "          if (!dataTable) return;\n",
              "\n",
              "          const docLinkHtml = 'Like what you see? Visit the ' +\n",
              "            '<a target=\"_blank\" href=https://colab.research.google.com/notebooks/data_table.ipynb>data table notebook</a>'\n",
              "            + ' to learn more about interactive tables.';\n",
              "          element.innerHTML = '';\n",
              "          dataTable['output_type'] = 'display_data';\n",
              "          await google.colab.output.renderOutput(dataTable, element);\n",
              "          const docLink = document.createElement('div');\n",
              "          docLink.innerHTML = docLinkHtml;\n",
              "          element.appendChild(docLink);\n",
              "        }\n",
              "      </script>\n",
              "    </div>\n",
              "  </div>\n",
              "  "
            ]
          },
          "metadata": {},
          "execution_count": 5
        }
      ],
      "source": [
        "data.describe()"
      ]
    },
    {
      "cell_type": "code",
      "execution_count": null,
      "metadata": {
        "colab": {
          "base_uri": "https://localhost:8080/"
        },
        "id": "y_G9Lqaq8ZAf",
        "outputId": "d206e172-9b08-41fb-da9c-b75858e88891"
      },
      "outputs": [
        {
          "output_type": "execute_result",
          "data": {
            "text/plain": [
              "age                           int64\n",
              "sex                          object\n",
              "on thyroxine                 object\n",
              "query on thyroxine           object\n",
              "on antithyroid medication    object\n",
              "sick                         object\n",
              "pregnant                     object\n",
              "thyroid surgery              object\n",
              "I131 treatment               object\n",
              "query hypothyroid            object\n",
              "query hyperthyroid           object\n",
              "lithium                      object\n",
              "goitre                       object\n",
              "tumor                        object\n",
              "hypopituitary                object\n",
              "psych                        object\n",
              "TSH measured                 object\n",
              "TSH                          object\n",
              "T3 measured                  object\n",
              "T3                           object\n",
              "TT4 measured                 object\n",
              "TT4                          object\n",
              "T4U measured                 object\n",
              "T4U                          object\n",
              "FTI measured                 object\n",
              "FTI                          object\n",
              "binaryClass                  object\n",
              "dtype: object"
            ]
          },
          "metadata": {},
          "execution_count": 6
        }
      ],
      "source": [
        "data.dtypes"
      ]
    },
    {
      "cell_type": "code",
      "execution_count": null,
      "metadata": {
        "id": "vp_ijwQZrFWj"
      },
      "outputs": [],
      "source": [
        "list1=data['binaryClass'].tolist()\n"
      ]
    },
    {
      "cell_type": "code",
      "execution_count": null,
      "metadata": {
        "colab": {
          "base_uri": "https://localhost:8080/"
        },
        "id": "vqwR2Zugrwdl",
        "outputId": "02a9607a-0015-4def-8c05-3176266d74d5"
      },
      "outputs": [
        {
          "output_type": "stream",
          "name": "stdout",
          "text": [
            "Possitive 499\n",
            "Negative 400\n"
          ]
        }
      ],
      "source": [
        "p=list1.count('P')\n",
        "print(\"Possitive\",p)\n",
        "n=list1.count('N')\n",
        "print(\"Negative\",n)\n"
      ]
    },
    {
      "cell_type": "code",
      "execution_count": null,
      "metadata": {
        "colab": {
          "base_uri": "https://localhost:8080/"
        },
        "id": "05BCp5tcsR05",
        "outputId": "8e945191-e171-4db8-c22f-9aa254b81b1e"
      },
      "outputs": [
        {
          "output_type": "execute_result",
          "data": {
            "text/plain": [
              "Index(['age', 'sex', 'on thyroxine', 'query on thyroxine',\n",
              "       'on antithyroid medication', 'sick', 'pregnant', 'thyroid surgery',\n",
              "       'I131 treatment', 'query hypothyroid', 'query hyperthyroid', 'lithium',\n",
              "       'goitre', 'tumor', 'hypopituitary', 'psych', 'TSH measured', 'TSH',\n",
              "       'T3 measured', 'T3', 'TT4 measured', 'TT4', 'T4U measured', 'T4U',\n",
              "       'FTI measured', 'FTI', 'binaryClass'],\n",
              "      dtype='object')"
            ]
          },
          "metadata": {},
          "execution_count": 9
        }
      ],
      "source": [
        "data.columns"
      ]
    },
    {
      "cell_type": "code",
      "execution_count": null,
      "metadata": {
        "colab": {
          "base_uri": "https://localhost:8080/"
        },
        "id": "zZJAfIv0sofs",
        "outputId": "88e015eb-7c93-4f02-8743-be49383f20f3"
      },
      "outputs": [
        {
          "output_type": "stream",
          "name": "stdout",
          "text": [
            "age [65 44 27 54 34 39 62  1 50 26 42 59 79 33 63 19 55 70 74 67 80 75 29 68\n",
            " 18 45 35 46  7 77 37 78 71 73 76 38 23 72 60 40 28 31 47 56 53 61 36 84\n",
            " 64 16 25 69 83 48 32 86 57 41 30  2 52 49 51 82 88 24 15 58 43 85 81 21\n",
            " 87 66 22 17 13 10 89 20 90]\n",
            "sex ['F' 'M' '?']\n",
            "on thyroxine ['f' 't']\n",
            "query on thyroxine ['f' 't']\n",
            "on antithyroid medication ['f' 't']\n",
            "sick ['f' 't']\n",
            "pregnant ['f' 't']\n",
            "thyroid surgery ['f' 't']\n",
            "I131 treatment ['f' 't']\n",
            "query hypothyroid ['t' 'f']\n",
            "query hyperthyroid ['f' 't']\n",
            "lithium ['f' 't']\n",
            "goitre ['f' 't']\n",
            "tumor ['f' 't']\n",
            "hypopituitary ['f' 't']\n",
            "psych ['f' 't']\n",
            "TSH measured ['t' 'f']\n",
            "TSH ['12' '45' '14.8' '15' '19' '7.8' '160' '8.8' '151' '9.4' '6.1' '11.4'\n",
            " '143' '16' '108' '9' '9.2' '86' '9.1' '52' '31' '51' '9.6' '24' '42' '10'\n",
            " '8.6' '6.2' '28' '9.7' '18' '55' '14' '6.7' '7.6' '8' '11' '44' '7.9'\n",
            " '7.2' '6.4' '25' '33' '7.1' '199' '188' '98' '22' '6.6' '35' '8.2' '60'\n",
            " '6.9' '29' '13' '7.5' '34' '103' '8.9' '9.3' '26' '54' '8.3' '478' '6.8'\n",
            " '8.1' '100' '58' '41' '183' '18.4' '43' '0.015' '7.3' '70' '8.5' '17'\n",
            " '82' '38' '9.9' '9.8' '7' '11.1' '27' '39' '6.5' '126' '26.4' '7.7' '178'\n",
            " '47' '36' '6.3' '10.3' '89' '7.4' '472' '61' '99' '46' '4.6' '468' '14.4'\n",
            " '21' '165' '80' '145' '30.5' '20' '236' '23' '440' '139' '530' '109'\n",
            " '400' '230' '65' '117' '40' '1.5' '1.3' '1.2' '2.1' '0.1' '0.5' '2' '0.8'\n",
            " '1.9' '3.1' '0.2' '0.03' '0.3' '?' '0.035' '2.5' '1.7' '1.1' '1.8' '0.26'\n",
            " '2.8' '5.4' '0.99' '0.25' '0.92' '0.15' '0.64' '1' '0.4' '2.6' '0.02' '3'\n",
            " '2.9' '3.2' '1.6' '4.3' '0.005' '0.31' '0.61' '0.05' '4.1' '0.025' '1.4'\n",
            " '0.01' '0.6' '0.04' '3.9' '2.7' '2.3' '0.94' '2.4' '0.045' '3.5' '0.88'\n",
            " '0.08' '4.5' '6' '0.68' '3.3' '0.7' '0.67' '2.2' '0.75' '0.55' '5.2'\n",
            " '0.77' '0.07' '0.9' '0.72' '0.45' '0.57' '0.65' '0.83' '0.62' '0.59'\n",
            " '5.9' '0.33' '5.8' '0.28' '4.4' '3.4' '0.09' '0.76' '0.66' '0.79' '0.86'\n",
            " '0.84' '0.16' '3.7' '0.87' '0.74' '0.065' '0.29' '0.37' '0.48' '5' '0.89']\n",
            "T3 measured ['f' 't']\n",
            "T3 ['?' '1.4' '1.5' '1.6' '2.2' '2' '0.4' '1.9' '1' '0.7' '1.7' '2.5' '0.5'\n",
            " '1.2' '1.3' '0.8' '0.2' '0.3' '1.1' '1.8' '0.9' '3.5' '2.3' '0.6' '3.9'\n",
            " '2.6' '2.1' '4.1' '2.4' '3.1' '3.7' '2.9' '2.7' '5.5' '2.8' '3.3' '3.4'\n",
            " '4.2' '3' '4.8' '4.3' '0.05' '3.2' '5.4' '4' '3.8' '3.6' '5.2' '5' '6']\n",
            "TT4 measured ['t' 'f']\n",
            "TT4 ['99' '39' '61' '82' '83' '95' '11' '105' '113' '32' '70' '74' '73' '75'\n",
            " '14' '117' '106' '27' '72' '65' '13' '12' '79' '63' '18' '94' '67' '84'\n",
            " '124' '?' '37' '33' '137' '44' '45' '69' '91' '128' '101' '144' '86' '59'\n",
            " '104' '60' '98' '126' '71' '64' '97' '96' '10' '146' '5.8' '42' '66' '68'\n",
            " '88' '15' '47' '123' '139' '52' '89' '122' '136' '62' '85' '4.8' '50'\n",
            " '81' '90' '87' '48' '102' '118' '22' '77' '141' '130' '131' '35' '108'\n",
            " '111' '31' '112' '109' '6' '116' '103' '2' '3' '119' '142' '78' '92'\n",
            " '120' '34' '29' '148' '23' '110' '21' '51' '25' '53' '17' '46' '41' '9.5'\n",
            " '19' '93' '16' '28' '24' '36' '125' '135' '4' '2.9' '80' '76' '132' '56'\n",
            " '177' '134' '199' '57' '129' '147' '121' '133' '163' '162' '151' '138'\n",
            " '107' '237' '160' '114' '161' '150' '217' '159' '100' '140' '205' '225'\n",
            " '219' '127' '189' '180' '171' '145' '184' '38' '156' '152' '54' '58'\n",
            " '115' '193' '143' '257' '164' '167' '183' '176' '154' '174' '203' '244'\n",
            " '158' '187' '250']\n",
            "T4U measured ['t' 'f']\n",
            "T4U ['1.14' '1.16' '0.85' '0.82' '1.03' '0.99' '1.24' '0.86' '0.95' '?' '0.97'\n",
            " '1.01' '0.98' '1.13' '0.84' '0.9' '0.92' '0.88' '1.19' '1.26' '1' '1.2'\n",
            " '1.09' '0.96' '0.74' '1.11' '0.72' '0.7' '0.56' '1.04' '0.83' '1.08'\n",
            " '0.93' '1.07' '1.29' '1.38' '1.4' '0.89' '0.8' '0.94' '0.91' '0.66'\n",
            " '1.36' '0.81' '1.18' '1.65' '1.3' '1.02' '0.87' '1.33' '0.75' '1.5' '1.1'\n",
            " '1.06' '1.12' '1.17' '1.31' '1.39' '0.61' '0.76' '0.78' '1.23' '0.79'\n",
            " '1.22' '0.64' '1.37' '1.25' '1.15' '0.68' '1.27' '0.62' '1.21' '0.63'\n",
            " '1.57' '0.67' '1.32' '1.54' '1.05' '1.35' '1.34' '1.28' '1.46' '0.77'\n",
            " '1.55' '1.58' '0.71' '0.53' '1.44' '1.63' '1.51' '1.42' '1.43' '1.41'\n",
            " '1.68' '0.73' '1.66' '0.52' '1.83' '1.93' '0.58' '1.82' '0.6' '1.67'\n",
            " '0.54' '1.77' '1.59' '1.97' '1.69']\n",
            "FTI measured ['t' 'f']\n",
            "FTI ['87' '33' '72' '100' '81' '96' '8.9' '122' '131' '28' '74' '?' '102' '14'\n",
            " '94' '32' '80' '71' '95' '11' '10' '53' '16' '98' '114' '112' '51' '47'\n",
            " '133' '77' '43' '89' '118' '108' '116' '101' '57' '97' '58' '76' '92'\n",
            " '65' '68' '125' '7' '64' '85' '41' '70' '88' '130' '13' '93' '73' '48'\n",
            " '103' '104' '84' '56' '110' '83' '5.4' '59' '46' '78' '34' '111' '67'\n",
            " '82' '90' '60' '105' '75' '66' '107' '79' '39' '153' '106' '42' '128'\n",
            " '61' '50' '54' '120' '126' '121' '37' '7.6' '2' '69' '3' '99' '9' '91'\n",
            " '117' '29' '26' '113' '124' '134' '49' '19' '20' '109' '115' '36' '17'\n",
            " '8.4' '63' '18' '40' '142' '8.5' '119' '4' '2.8' '55' '9.1' '27' '15'\n",
            " '190' '129' '148' '140' '171' '155' '186' '136' '135' '203' '180' '145'\n",
            " '156' '139' '146' '157' '143' '221' '137' '170' '127' '274' '154' '141'\n",
            " '62' '86' '172' '162' '152' '163' '149' '165' '164' '123' '144' '214'\n",
            " '200' '132' '160' '138' '169' '179' '224' '220' '362' '182' '161' '151'\n",
            " '312']\n",
            "binaryClass ['N' 'P']\n"
          ]
        }
      ],
      "source": [
        "for column in data.columns:\n",
        "    print(column,(data[column].unique()))"
      ]
    },
    {
      "cell_type": "code",
      "execution_count": null,
      "metadata": {
        "colab": {
          "base_uri": "https://localhost:8080/"
        },
        "id": "jmhez-gxtJtC",
        "outputId": "95594ebd-1112-4f8c-975a-982b980bad95"
      },
      "outputs": [
        {
          "output_type": "stream",
          "name": "stdout",
          "text": [
            "sex 30\n",
            "TSH 62\n",
            "T3 173\n",
            "TT4 37\n",
            "T4U 76\n",
            "FTI 76\n"
          ]
        }
      ],
      "source": [
        "for column in data.columns:\n",
        "    count=data[column][data[column]=='?'].count()\n",
        "    if count != 0:\n",
        "        print(column,data[column][data[column]=='?'].count())"
      ]
    },
    {
      "cell_type": "code",
      "execution_count": null,
      "metadata": {
        "id": "t-FFDW2ntZpJ"
      },
      "outputs": [],
      "source": [
        "for column in data.columns:\n",
        "    count=data[column][data[column]== '?'].count()\n",
        "    if count!=0:\n",
        "        data[column]=data[column].replace('?',np.nan)"
      ]
    },
    {
      "cell_type": "code",
      "execution_count": null,
      "metadata": {
        "colab": {
          "base_uri": "https://localhost:8080/",
          "height": 389
        },
        "id": "ZdlC0S8g4seN",
        "outputId": "c1f052c2-9d7c-4bfe-b8a3-1d8f308b05f7"
      },
      "outputs": [
        {
          "output_type": "display_data",
          "data": {
            "text/plain": [
              "<Figure size 432x288 with 1 Axes>"
            ],
            "image/png": "[encoded data removed]"
          },
          "metadata": {
            "needs_background": "light"
          }
        }
      ],
      "source": [
        "sns.heatmap(data.isnull(), cbar=False)\n",
        "plt.show()"
      ]
    },
    {
      "cell_type": "code",
      "execution_count": null,
      "metadata": {
        "id": "Wf-URlqjuegq"
      },
      "outputs": [],
      "source": [
        "data['TSH'].fillna((data['TSH'].median()), inplace = True)\n",
        "data['TT4'].fillna((data['TT4'].median()), inplace = True)\n",
        "data['T4U'].fillna((data['T4U'].median()), inplace = True)\n",
        "data['T3'].fillna((data['T3'].median()), inplace = True)\n",
        "data['FTI'].fillna((data['FTI'].median()), inplace = True)\n"
      ]
    },
    {
      "cell_type": "code",
      "execution_count": null,
      "metadata": {
        "colab": {
          "base_uri": "https://localhost:8080/"
        },
        "id": "XuiaqfQCu_Fo",
        "outputId": "49475d0b-f672-4b23-c55b-e496a875dc5d"
      },
      "outputs": [
        {
          "output_type": "execute_result",
          "data": {
            "text/plain": [
              "age                           0\n",
              "sex                          30\n",
              "on thyroxine                  0\n",
              "query on thyroxine            0\n",
              "on antithyroid medication     0\n",
              "sick                          0\n",
              "pregnant                      0\n",
              "thyroid surgery               0\n",
              "I131 treatment                0\n",
              "query hypothyroid             0\n",
              "query hyperthyroid            0\n",
              "lithium                       0\n",
              "goitre                        0\n",
              "tumor                         0\n",
              "hypopituitary                 0\n",
              "psych                         0\n",
              "TSH measured                  0\n",
              "TSH                           0\n",
              "T3 measured                   0\n",
              "T3                            0\n",
              "TT4 measured                  0\n",
              "TT4                           0\n",
              "T4U measured                  0\n",
              "T4U                           0\n",
              "FTI measured                  0\n",
              "FTI                           0\n",
              "binaryClass                   0\n",
              "dtype: int64"
            ]
          },
          "metadata": {},
          "execution_count": 15
        }
      ],
      "source": [
        "data.isnull().sum()"
      ]
    },
    {
      "cell_type": "code",
      "execution_count": null,
      "metadata": {
        "id": "vVJsl8U-vJ7g"
      },
      "outputs": [],
      "source": [
        "data[\"sex\"] = data[\"sex\"].replace({\"F\":1,\"M\":0})"
      ]
    },
    {
      "cell_type": "code",
      "execution_count": null,
      "metadata": {
        "id": "5zB-cBWrvRTh"
      },
      "outputs": [],
      "source": [
        "data[\"sex\"] = data[\"sex\"].fillna(data[\"sex\"].median())"
      ]
    },
    {
      "cell_type": "code",
      "execution_count": null,
      "metadata": {
        "colab": {
          "base_uri": "https://localhost:8080/",
          "height": 389
        },
        "id": "ymbc8eET56bQ",
        "outputId": "7c8ee92f-61e9-464b-c9bd-df89a8304d92"
      },
      "outputs": [
        {
          "output_type": "display_data",
          "data": {
            "text/plain": [
              "<Figure size 432x288 with 1 Axes>"
            ],
            "image/png": "[encoded data removed]"
          },
          "metadata": {
            "needs_background": "light"
          }
        }
      ],
      "source": [
        "sns.heatmap(data.isnull(), cbar=False)\n",
        "plt.show()"
      ]
    },
    {
      "cell_type": "code",
      "execution_count": null,
      "metadata": {
        "id": "FQjEXMwRwwEz"
      },
      "outputs": [],
      "source": [
        "dss=data.replace({\"t\":1,\"f\":0})\n"
      ]
    },
    {
      "cell_type": "code",
      "source": [
        "ds=dss.replace({\"P\":1,\"N\":0})"
      ],
      "metadata": {
        "id": "er9r8aZDSzIx"
      },
      "execution_count": null,
      "outputs": []
    },
    {
      "cell_type": "code",
      "source": [
        "age = ds[ds.binaryClass == 1]"
      ],
      "metadata": {
        "id": "V5hmYGWQRhxz"
      },
      "execution_count": null,
      "outputs": []
    },
    {
      "cell_type": "code",
      "execution_count": null,
      "metadata": {
        "colab": {
          "base_uri": "https://localhost:8080/",
          "height": 404
        },
        "id": "VT_IwlN-4Djz",
        "outputId": "33953021-269f-4862-fb5e-2ab3364d6ea5"
      },
      "outputs": [
        {
          "output_type": "display_data",
          "data": {
            "text/plain": [
              "<Figure size 648x432 with 1 Axes>"
            ],
            "image/png": "[encoded data removed]"
          },
          "metadata": {
            "needs_background": "light"
          }
        }
      ],
      "source": [
        "plt.figure(figsize=(9,6))\n",
        "sns.histplot(x=\"age\",data=age,color=\"lightblue\")\n",
        "plt.title(\"Distribution of Positive Cases Based on Age\")\n",
        "plt.show()"
      ]
    },
    {
      "cell_type": "code",
      "execution_count": null,
      "metadata": {
        "colab": {
          "base_uri": "https://localhost:8080/",
          "height": 482
        },
        "id": "eSEtBHZE3kX_",
        "outputId": "6af86050-03a8-4bdc-f1b1-cb4aa021ca21"
      },
      "outputs": [
        {
          "output_type": "display_data",
          "data": {
            "text/plain": [
              "<Figure size 720x576 with 1 Axes>"
            ],
            "image/png": "[encoded data removed]"
          },
          "metadata": {}
        }
      ],
      "source": [
        "\n",
        "plt.figure(figsize=(10,8))\n",
        "plt.pie(x=data.sex.value_counts(),\n",
        "        labels=[\"Female\",\"Male\"],\n",
        "        startangle = 90,\n",
        "        colors=[\"violet\",\"lightgreen\"],\n",
        "        autopct='%.2f'\n",
        "       );\n",
        "plt.title(\"No of Female and Male\")\n",
        "plt.legend();"
      ]
    },
    {
      "cell_type": "code",
      "source": [
        "plt.figure(figsize=(10,8))\n",
        "plt.pie(x=data.sick.value_counts(),\n",
        "        labels=[\"sick\",\"Not sick\"],\n",
        "        startangle = 90,\n",
        "        colors=[\"aqua\",\"lime\"],\n",
        "        autopct='%.2f'\n",
        "       );\n",
        "plt.title(\"Sick and Not Sick\")\n",
        "plt.legend();"
      ],
      "metadata": {
        "colab": {
          "base_uri": "https://localhost:8080/",
          "height": 482
        },
        "id": "VntXphaFTpJG",
        "outputId": "fbd20e6a-751b-4a38-e10a-ec618bb18fbd"
      },
      "execution_count": null,
      "outputs": [
        {
          "output_type": "display_data",
          "data": {
            "text/plain": [
              "<Figure size 720x576 with 1 Axes>"
            ],
            "image/png": "[encoded data removed]"
          },
          "metadata": {}
        }
      ]
    },
    {
      "cell_type": "code",
      "execution_count": null,
      "metadata": {
        "id": "psoeLwvZyncc"
      },
      "outputs": [],
      "source": [
        "import numpy as np\n",
        "import sklearn\n",
        "x=ds.iloc[:,:-1]\n",
        "y=ds.iloc[:,-1]"
      ]
    },
    {
      "cell_type": "code",
      "execution_count": null,
      "metadata": {
        "id": "vJ2YsyMfy3Jo"
      },
      "outputs": [],
      "source": [
        "from sklearn.model_selection import train_test_split\n",
        "x_train, x_test, y_train, y_test= train_test_split(x, y, test_size= 0.25, random_state=100)\n"
      ]
    },
    {
      "cell_type": "code",
      "source": [
        "print(x_train)"
      ],
      "metadata": {
        "colab": {
          "base_uri": "https://localhost:8080/"
        },
        "id": "ICK4jgT-VS4h",
        "outputId": "0f94a2ef-e882-4825-e772-fd846372f9d9"
      },
      "execution_count": null,
      "outputs": [
        {
          "output_type": "stream",
          "name": "stdout",
          "text": [
            "     age  sex  on thyroxine  query on thyroxine  on antithyroid medication  \\\n",
            "863   31  1.0             0                   0                          0   \n",
            "623   89  1.0             0                   0                          0   \n",
            "325   21  1.0             0                   0                          0   \n",
            "510   80  0.0             0                   0                          0   \n",
            "315   26  1.0             0                   0                          0   \n",
            "..   ...  ...           ...                 ...                        ...   \n",
            "855   69  0.0             0                   0                          0   \n",
            "871   26  1.0             0                   0                          0   \n",
            "835   74  1.0             0                   0                          0   \n",
            "792   68  1.0             0                   0                          0   \n",
            "520   28  1.0             0                   0                          1   \n",
            "\n",
            "     sick  pregnant  thyroid surgery  I131 treatment  query hypothyroid  ...  \\\n",
            "863     0         0                0               0                  0  ...   \n",
            "623     0         0                0               0                  0  ...   \n",
            "325     0         0                0               0                  0  ...   \n",
            "510     0         0                0               0                  0  ...   \n",
            "315     0         0                0               0                  0  ...   \n",
            "..    ...       ...              ...             ...                ...  ...   \n",
            "855     0         0                0               0                  0  ...   \n",
            "871     0         0                0               0                  0  ...   \n",
            "835     0         0                0               0                  0  ...   \n",
            "792     0         0                0               0                  0  ...   \n",
            "520     0         0                0               0                  0  ...   \n",
            "\n",
            "     TSH measured   TSH  T3 measured   T3  TT4 measured   TT4  T4U measured  \\\n",
            "863             1   0.1            1  1.8             1    93             0   \n",
            "623             0   2.2            0  1.8             0  96.0             0   \n",
            "325             0   2.2            1  1.8             1   163             1   \n",
            "510             1  0.15            1  2.2             1   124             1   \n",
            "315             1   1.8            1  2.5             1   147             1   \n",
            "..            ...   ...          ...  ...           ...   ...           ...   \n",
            "855             0   2.2            0  1.8             1   118             1   \n",
            "871             1   2.1            1  2.2             1    95             1   \n",
            "835             1   1.3            1  2.3             1   113             1   \n",
            "792             1   1.4            1  1.3             1   119             1   \n",
            "520             1   2.4            1  2.1             1   125             0   \n",
            "\n",
            "      T4U  FTI measured    FTI  \n",
            "863  0.98             0  100.0  \n",
            "623  0.98             0  100.0  \n",
            "325  1.05             1    155  \n",
            "510  0.81             1    152  \n",
            "315  1.13             1    129  \n",
            "..    ...           ...    ...  \n",
            "855  1.11             1    107  \n",
            "871     1             1     95  \n",
            "835  0.96             1    118  \n",
            "792  1.11             1    107  \n",
            "520  0.98             0  100.0  \n",
            "\n",
            "[674 rows x 26 columns]\n"
          ]
        }
      ]
    },
    {
      "cell_type": "code",
      "source": [
        "print(x_test)"
      ],
      "metadata": {
        "colab": {
          "base_uri": "https://localhost:8080/"
        },
        "id": "dKbOYWBM3gi9",
        "outputId": "554f272a-ec26-4e9e-c229-4cf14b08053b"
      },
      "execution_count": null,
      "outputs": [
        {
          "output_type": "stream",
          "name": "stdout",
          "text": [
            "     age  sex  on thyroxine  query on thyroxine  on antithyroid medication  \\\n",
            "433   41  1.0             1                   0                          0   \n",
            "788   49  0.0             0                   0                          0   \n",
            "686   56  1.0             0                   0                          0   \n",
            "24    75  1.0             0                   0                          0   \n",
            "481   34  1.0             1                   0                          1   \n",
            "..   ...  ...           ...                 ...                        ...   \n",
            "225   54  0.0             0                   0                          0   \n",
            "255   33  1.0             0                   0                          0   \n",
            "666   17  1.0             0                   0                          0   \n",
            "301   81  0.0             0                   0                          0   \n",
            "790   76  0.0             0                   0                          0   \n",
            "\n",
            "     sick  pregnant  thyroid surgery  I131 treatment  query hypothyroid  ...  \\\n",
            "433     0         0                0               0                  0  ...   \n",
            "788     0         0                0               0                  0  ...   \n",
            "686     0         0                0               0                  0  ...   \n",
            "24      0         0                0               0                  0  ...   \n",
            "481     0         0                0               0                  0  ...   \n",
            "..    ...       ...              ...             ...                ...  ...   \n",
            "225     0         0                0               0                  0  ...   \n",
            "255     0         0                0               0                  0  ...   \n",
            "666     0         0                0               0                  0  ...   \n",
            "301     0         0                0               0                  0  ...   \n",
            "790     0         0                0               0                  0  ...   \n",
            "\n",
            "     TSH measured   TSH  T3 measured   T3  TT4 measured  TT4  T4U measured  \\\n",
            "433             1     6            1  1.9             1  114             1   \n",
            "788             1   0.8            1  1.5             1   85             1   \n",
            "686             1  0.87            1  1.9             1  116             0   \n",
            "24              1   9.6            1  1.9             1   79             1   \n",
            "481             1    26            1  3.7             1  107             1   \n",
            "..            ...   ...          ...  ...           ...  ...           ...   \n",
            "225             1  14.4            1  1.1             1   51             1   \n",
            "255             1   6.2            1  0.8             1   51             1   \n",
            "666             1   1.1            0  1.8             1  154             1   \n",
            "301             1   1.9            1  0.3             1  102             1   \n",
            "790             1   2.5            1  1.5             1   81             1   \n",
            "\n",
            "      T4U  FTI measured    FTI  \n",
            "433     1             1    114  \n",
            "788  0.73             1    116  \n",
            "686  0.98             0  100.0  \n",
            "24      1             1     80  \n",
            "481  1.21             1     88  \n",
            "..    ...           ...    ...  \n",
            "225  0.68             1     75  \n",
            "255  0.88             1     58  \n",
            "666  1.34             1    115  \n",
            "301  0.96             1    106  \n",
            "790  0.92             1     88  \n",
            "\n",
            "[225 rows x 26 columns]\n"
          ]
        }
      ]
    },
    {
      "cell_type": "code",
      "execution_count": null,
      "metadata": {
        "colab": {
          "base_uri": "https://localhost:8080/"
        },
        "id": "v0G3rSwoz8Km",
        "outputId": "5b9e9901-2be0-482f-a65d-a2b70184c16f"
      },
      "outputs": [
        {
          "output_type": "stream",
          "name": "stdout",
          "text": [
            "RANDOM FOREST CLASSIFIER\n",
            "Accuracy 80.88888888888889\n"
          ]
        }
      ],
      "source": [
        "from sklearn.ensemble import RandomForestClassifier\n",
        "from sklearn import metrics\n",
        "from sklearn.metrics import accuracy_score\n",
        "classi=RandomForestClassifier(n_estimators=20, max_features=3)\n",
        "classi.fit(x_train,y_train)\n",
        "y_pre = classi.predict(x_test)\n",
        "print(\"RANDOM FOREST CLASSIFIER\")\n",
        "print(\"Accuracy\",metrics.accuracy_score(y_test,y_pre)*100)\n",
        "from sklearn.metrics import confusion_matrix"
      ]
    },
    {
      "cell_type": "code",
      "source": [
        "cm=confusion_matrix(y_test,y_pre)\n",
        "cm"
      ],
      "metadata": {
        "colab": {
          "base_uri": "https://localhost:8080/"
        },
        "id": "nmHRm-H9G2v2",
        "outputId": "4f36c39e-7713-4b2d-c1d3-a904d0dbf5fa"
      },
      "execution_count": null,
      "outputs": [
        {
          "output_type": "execute_result",
          "data": {
            "text/plain": [
              "array([[86, 25],\n",
              "       [18, 96]])"
            ]
          },
          "metadata": {},
          "execution_count": 30
        }
      ]
    },
    {
      "cell_type": "code",
      "source": [
        "tp=cm[0][0]\n",
        "tn=cm[1][1]\n",
        "fp=cm[0][1]\n",
        "fn=cm[1][0]\n",
        "print(\"True Possitive=\",tp)\n",
        "print(\"True Negative=\",tn)\n",
        "print(\"False Possitive=\",fp)\n",
        "print(\"False Negative=\",fn)"
      ],
      "metadata": {
        "colab": {
          "base_uri": "https://localhost:8080/"
        },
        "id": "9C2WkvMRPCwY",
        "outputId": "eff41611-5a08-4f64-daad-ed8d4af28afe"
      },
      "execution_count": null,
      "outputs": [
        {
          "output_type": "stream",
          "name": "stdout",
          "text": [
            "True Possitive= 86\n",
            "True Negative= 96\n",
            "False Possitive= 25\n",
            "False Negative= 18\n"
          ]
        }
      ]
    },
    {
      "cell_type": "code",
      "source": [
        "pre=tp/(tp+fp)\n",
        "re=tp/(tp+fn)\n",
        "fm=2*pre*re/(pre+re)\n",
        "print(\"Precision=\",pre)\n",
        "print(\"Recall=\",re)\n",
        "print(\"F Measure=\",fm)"
      ],
      "metadata": {
        "id": "HD1epe4MQFTM",
        "colab": {
          "base_uri": "https://localhost:8080/"
        },
        "outputId": "190fceb1-19f7-45f9-fb27-aed5f6d9f8fa"
      },
      "execution_count": null,
      "outputs": [
        {
          "output_type": "stream",
          "name": "stdout",
          "text": [
            "Precision= 0.7747747747747747\n",
            "Recall= 0.8269230769230769\n",
            "F Measure= 0.8\n"
          ]
        }
      ]
    },
    {
      "cell_type": "code",
      "execution_count": null,
      "metadata": {
        "id": "bwmtX_yNJ02Z"
      },
      "outputs": [],
      "source": [
        "from sklearn.decomposition import PCA\n",
        ""
      ]
    },
    {
      "cell_type": "code",
      "execution_count": null,
      "metadata": {
        "colab": {
          "base_uri": "https://localhost:8080/"
        },
        "id": "n1hZwFrxK8Xb",
        "outputId": "d8725526-d3fe-4db3-f933-984a4d31bce0"
      },
      "outputs": [
        {
          "output_type": "stream",
          "name": "stdout",
          "text": [
            "(899, 27)\n",
            "[[ 3.71654656e+00 -7.37868182e+00 -8.62513601e+00 ... -1.97495345e-03\n",
            "   2.76512003e-03  5.10373271e-16]\n",
            " [ 8.60606102e+01 -3.52722446e+01  1.19453131e+01 ... -6.31501904e-05\n",
            "  -1.78054907e-02 -7.45365089e-17]\n",
            " [ 3.36448728e+01 -3.12702632e+01 -1.16430910e+01 ...  9.73332159e-05\n",
            "  -3.59084706e-03 -1.27415900e-16]\n",
            " ...\n",
            " [-6.04248047e+01  3.75306586e+01  1.70295082e+01 ...  1.06931262e-03\n",
            "  -3.61574839e-03  2.60756750e-16]\n",
            " [-1.70086141e+01 -2.92249406e+00  2.08568145e+00 ... -6.63290511e-05\n",
            "  -4.18216353e-03 -1.02077815e-16]\n",
            " [ 2.44630356e+01 -3.75035180e+01  1.14363148e+01 ... -4.69493747e-03\n",
            "   1.20527743e-02  3.48208171e-16]]\n"
          ]
        }
      ],
      "source": [
        "from sklearn.decomposition import PCA\n",
        "pca = PCA()\n",
        "pca.fit(ds)\n",
        "transformed = pca.transform(ds)\n",
        "x_pca = transformed\n",
        "print(x_pca.shape)\n",
        "print(x_pca)\n"
      ]
    },
    {
      "cell_type": "code",
      "execution_count": null,
      "metadata": {
        "id": "NFqi5xhllVHb"
      },
      "outputs": [],
      "source": [
        "x_train_pca, x_test_pca, y_train, y_test = train_test_split(x_pca, y, test_size=0.25, random_state=100)"
      ]
    },
    {
      "cell_type": "code",
      "source": [
        "print(x_train_pca)"
      ],
      "metadata": {
        "id": "AYozkYZrW1wv",
        "colab": {
          "base_uri": "https://localhost:8080/"
        },
        "outputId": "2ddefe5e-41c0-4843-e01b-da6790a80742"
      },
      "execution_count": null,
      "outputs": [
        {
          "output_type": "stream",
          "name": "stdout",
          "text": [
            "[[-7.14357717e+00 -1.07579442e+01  2.01794251e+01 ... -4.01310049e-03\n",
            "   3.99706035e-03  7.07852519e-16]\n",
            " [-8.34031152e+00 -1.25956915e+01 -3.44106489e+01 ...  9.00625818e-03\n",
            "   1.32237904e-02  1.36025867e-16]\n",
            " [-7.13050441e+01  5.12259893e+01  2.76013859e+01 ... -1.82821311e-05\n",
            "   1.98361688e-02  4.13734673e-16]\n",
            " ...\n",
            " [-2.70356169e+01  4.48528825e+00 -2.17720539e+01 ...  7.37440226e-04\n",
            "   9.27307009e-03 -8.25004888e-17]\n",
            " [-2.44224699e+01  3.41198104e+00 -1.22480104e+01 ...  1.08805850e-03\n",
            "   1.21566011e-03 -8.53684501e-17]\n",
            " [-2.26865839e+01  7.62022125e+00  2.84128882e+01 ... -1.88895063e-02\n",
            "   1.15365289e-02 -3.08063343e-16]]\n"
          ]
        }
      ]
    },
    {
      "cell_type": "code",
      "source": [
        "print(x_test_pca)"
      ],
      "metadata": {
        "id": "xMapMrPTW7qx",
        "colab": {
          "base_uri": "https://localhost:8080/"
        },
        "outputId": "83211496-e851-4d4e-c388-66825c6120bb"
      },
      "execution_count": null,
      "outputs": [
        {
          "output_type": "stream",
          "name": "stdout",
          "text": [
            "[[-2.18020120e+01  9.54904790e+00  1.03004733e+01 ... -2.14800272e-03\n",
            "  -1.11913534e-03  2.41409851e-16]\n",
            " [-1.09247714e+01 -8.99507099e+00 -2.42799501e+00 ... -1.97861128e-03\n",
            "  -5.65371227e-03 -8.84974484e-17]\n",
            " [-1.93722061e+01 -5.07910759e-01  4.40686051e-01 ... -3.01117845e-03\n",
            "   1.12360289e-02  1.36025867e-16]\n",
            " ...\n",
            " [-4.66001222e+01  2.89301133e+01  4.01491196e+01 ... -1.08676306e-02\n",
            "  -7.71295651e-03 -1.55996745e-16]\n",
            " [-1.46901621e+01 -6.48537271e+00 -2.73238930e+01 ...  5.63251187e-03\n",
            "  -3.72066854e-03 -7.65399133e-17]\n",
            " [ 6.28208859e+00 -2.41313449e+01 -2.16752685e+01 ...  2.65235603e-03\n",
            "  -3.58122783e-03 -1.18854174e-16]]\n"
          ]
        }
      ]
    },
    {
      "cell_type": "code",
      "execution_count": null,
      "metadata": {
        "colab": {
          "base_uri": "https://localhost:8080/"
        },
        "id": "5th_77o2lejP",
        "outputId": "ced408c9-6e6b-49e8-f037-a26faf7d534e"
      },
      "outputs": [
        {
          "output_type": "stream",
          "name": "stdout",
          "text": [
            "RANDOM FOREST WITH PCA\n",
            "Accuracy 95.55555555555556\n"
          ]
        }
      ],
      "source": [
        "from sklearn.ensemble import RandomForestClassifier\n",
        "from sklearn import metrics\n",
        "from sklearn.metrics import accuracy_score\n",
        "model =RandomForestClassifier(n_estimators=20, max_features=3)\n",
        "model.fit(x_train_pca, y_train)\n",
        "y_pre= model.predict(x_test_pca)\n",
        "print(\"RANDOM FOREST WITH PCA\")\n",
        "print(\"Accuracy\",metrics.accuracy_score(y_test,y_pre)*100)\n",
        "from sklearn.metrics import confusion_matrix\n"
      ]
    },
    {
      "cell_type": "code",
      "source": [
        "cm=confusion_matrix(y_test,y_pre)\n",
        "cm"
      ],
      "metadata": {
        "colab": {
          "base_uri": "https://localhost:8080/"
        },
        "id": "dbFIGIFhfQgE",
        "outputId": "61cfcf96-e26e-494f-895b-a2cd37c3b041"
      },
      "execution_count": null,
      "outputs": [
        {
          "output_type": "execute_result",
          "data": {
            "text/plain": [
              "array([[105,   6],\n",
              "       [  4, 110]])"
            ]
          },
          "metadata": {},
          "execution_count": 46
        }
      ]
    },
    {
      "cell_type": "code",
      "source": [
        "tp=cm[0][0]\n",
        "tn=cm[1][1]\n",
        "fp=cm[0][1]\n",
        "fn=cm[1][0]\n",
        "print(\"True Possitive=\",tp)\n",
        "print(\"True Negative=\",tn)\n",
        "print(\"False Possitive=\",fp)\n",
        "print(\"False Negative=\",fn)"
      ],
      "metadata": {
        "colab": {
          "base_uri": "https://localhost:8080/"
        },
        "id": "3Wlf2JUlShSw",
        "outputId": "2fb3c5c8-9ca3-4e45-9198-b60dda0d3777"
      },
      "execution_count": null,
      "outputs": [
        {
          "output_type": "stream",
          "name": "stdout",
          "text": [
            "True Possitive= 105\n",
            "True Negative= 110\n",
            "False Possitive= 6\n",
            "False Negative= 4\n"
          ]
        }
      ]
    },
    {
      "cell_type": "code",
      "source": [
        "pre=tp/(tp+fp)\n",
        "re=tp/(tp+fn)\n",
        "fm=2*pre*re/(pre+re)\n",
        "print(\"Precision=\",pre)\n",
        "print(\"Recall=\",re)\n",
        "print(\"F Measure=\",fm)"
      ],
      "metadata": {
        "id": "Ux1jNDPJSxHm",
        "colab": {
          "base_uri": "https://localhost:8080/"
        },
        "outputId": "f9abbcf7-171f-4f06-9bbf-6de872bca9bf"
      },
      "execution_count": null,
      "outputs": [
        {
          "output_type": "stream",
          "name": "stdout",
          "text": [
            "Precision= 0.9459459459459459\n",
            "Recall= 0.963302752293578\n",
            "F Measure= 0.9545454545454546\n"
          ]
        }
      ]
    }
  ],
  "metadata": {
    "colab": {
      "provenance": []
    },
    "kernelspec": {
      "display_name": "Python 3",
      "name": "python3"
    },
    "language_info": {
      "name": "python"
    }
  },
  "nbformat": 4,
  "nbformat_minor": 0
}